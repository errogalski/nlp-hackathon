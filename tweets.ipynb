{
 "cells": [
  {
   "cell_type": "code",
   "execution_count": 167,
   "id": "14d99f47-1201-4dd0-98fb-b8241f330687",
   "metadata": {},
   "outputs": [],
   "source": [
    "#imports\n",
    "import pandas as pd\n",
    "import numpy as np\n",
    "import seaborn as sns\n",
    "import matplotlib.pyplot as plt\n",
    "\n",
    "from sklearn.feature_extraction.text import CountVectorizer\n",
    "from sklearn.model_selection import train_test_split\n",
    "\n",
    "from sklearn.linear_model import LogisticRegression\n",
    "from sklearn.metrics import ConfusionMatrixDisplay, f1_score, recall_score\n",
    "from sklearn.ensemble import RandomForestClassifier, VotingClassifier\n",
    "from sklearn.naive_bayes import GaussianNB, MultinomialNB\n",
    "\n",
    "from sklearn.model_selection import RandomizedSearchCV, GridSearchCV\n",
    "\n"
   ]
  },
  {
   "cell_type": "markdown",
   "id": "028a6872-89f6-42d1-b000-b34d1ad608e4",
   "metadata": {},
   "source": [
    "## Problem Statement"
   ]
  },
  {
   "cell_type": "markdown",
   "id": "3fb29ab6-2201-44c6-b7f6-feb3ed39513f",
   "metadata": {},
   "source": [
    "- Twitter is one of the fastest ways people in an emergency can communicate and share information. However, a lot of keywords used to describe an emergency are used in other, non-emergency situations. I will build a model that discerns the difference between human language describing real emergencies and non-emergencies in Tweets in order to help send aid as quickly as possible to those who are actually in danger.   \n"
   ]
  },
  {
   "cell_type": "markdown",
   "id": "b45a0db6-1cae-4f47-844b-1a59954e601c",
   "metadata": {},
   "source": [
    "![An example of a non-emergency Tweet that uses the keyword 'Ablaze'](image1.PNG \"An example of a non-emergency Tweet that uses the keyword 'Ablaze'\")"
   ]
  },
  {
   "cell_type": "markdown",
   "id": "6fa15856-d21f-406c-9257-efa5fa5b5bd0",
   "metadata": {},
   "source": [
    "## Data cleaning"
   ]
  },
  {
   "cell_type": "code",
   "execution_count": 108,
   "id": "c8782f7a-1220-4149-be70-e27fe56bade8",
   "metadata": {},
   "outputs": [
    {
     "data": {
      "text/html": [
       "<div>\n",
       "<style scoped>\n",
       "    .dataframe tbody tr th:only-of-type {\n",
       "        vertical-align: middle;\n",
       "    }\n",
       "\n",
       "    .dataframe tbody tr th {\n",
       "        vertical-align: top;\n",
       "    }\n",
       "\n",
       "    .dataframe thead th {\n",
       "        text-align: right;\n",
       "    }\n",
       "</style>\n",
       "<table border=\"1\" class=\"dataframe\">\n",
       "  <thead>\n",
       "    <tr style=\"text-align: right;\">\n",
       "      <th></th>\n",
       "      <th>keyword</th>\n",
       "      <th>location</th>\n",
       "      <th>text</th>\n",
       "      <th>target</th>\n",
       "    </tr>\n",
       "    <tr>\n",
       "      <th>id</th>\n",
       "      <th></th>\n",
       "      <th></th>\n",
       "      <th></th>\n",
       "      <th></th>\n",
       "    </tr>\n",
       "  </thead>\n",
       "  <tbody>\n",
       "    <tr>\n",
       "      <th>10869</th>\n",
       "      <td>NaN</td>\n",
       "      <td>NaN</td>\n",
       "      <td>Two giant cranes holding a bridge collapse into nearby homes http://t.co/STfMbbZFB5</td>\n",
       "      <td>1</td>\n",
       "    </tr>\n",
       "    <tr>\n",
       "      <th>10870</th>\n",
       "      <td>NaN</td>\n",
       "      <td>NaN</td>\n",
       "      <td>@aria_ahrary @TheTawniest The out of control wild fires in California even in the Northern part of the state. Very troubling.</td>\n",
       "      <td>1</td>\n",
       "    </tr>\n",
       "    <tr>\n",
       "      <th>10871</th>\n",
       "      <td>NaN</td>\n",
       "      <td>NaN</td>\n",
       "      <td>M1.94 [01:04 UTC]?5km S of Volcano Hawaii. http://t.co/zDtoyd8EbJ</td>\n",
       "      <td>1</td>\n",
       "    </tr>\n",
       "    <tr>\n",
       "      <th>10872</th>\n",
       "      <td>NaN</td>\n",
       "      <td>NaN</td>\n",
       "      <td>Police investigating after an e-bike collided with a car in Little Portugal. E-bike rider suffered serious non-life threatening injuries.</td>\n",
       "      <td>1</td>\n",
       "    </tr>\n",
       "    <tr>\n",
       "      <th>10873</th>\n",
       "      <td>NaN</td>\n",
       "      <td>NaN</td>\n",
       "      <td>The Latest: More Homes Razed by Northern California Wildfire - ABC News http://t.co/YmY4rSkQ3d</td>\n",
       "      <td>1</td>\n",
       "    </tr>\n",
       "  </tbody>\n",
       "</table>\n",
       "</div>"
      ],
      "text/plain": [
       "      keyword location  \\\n",
       "id                       \n",
       "10869     NaN      NaN   \n",
       "10870     NaN      NaN   \n",
       "10871     NaN      NaN   \n",
       "10872     NaN      NaN   \n",
       "10873     NaN      NaN   \n",
       "\n",
       "                                                                                                                                            text  \\\n",
       "id                                                                                                                                                 \n",
       "10869                                                        Two giant cranes holding a bridge collapse into nearby homes http://t.co/STfMbbZFB5   \n",
       "10870              @aria_ahrary @TheTawniest The out of control wild fires in California even in the Northern part of the state. Very troubling.   \n",
       "10871                                                                          M1.94 [01:04 UTC]?5km S of Volcano Hawaii. http://t.co/zDtoyd8EbJ   \n",
       "10872  Police investigating after an e-bike collided with a car in Little Portugal. E-bike rider suffered serious non-life threatening injuries.   \n",
       "10873                                             The Latest: More Homes Razed by Northern California Wildfire - ABC News http://t.co/YmY4rSkQ3d   \n",
       "\n",
       "       target  \n",
       "id             \n",
       "10869       1  \n",
       "10870       1  \n",
       "10871       1  \n",
       "10872       1  \n",
       "10873       1  "
      ]
     },
     "execution_count": 108,
     "metadata": {},
     "output_type": "execute_result"
    }
   ],
   "source": [
    "train_df = pd.read_csv('./data/train.csv', index_col='id')\n",
    "test_df = pd.read_csv('./data/test.csv', index_col='id')\n",
    "train_df.tail()"
   ]
  },
  {
   "cell_type": "code",
   "execution_count": 27,
   "id": "98cf25c4-396c-48c6-a1f3-c1acdd735b74",
   "metadata": {},
   "outputs": [
    {
     "data": {
      "text/plain": [
       "((7613, 4), (3263, 3))"
      ]
     },
     "execution_count": 27,
     "metadata": {},
     "output_type": "execute_result"
    }
   ],
   "source": [
    "train.shape, test.shape"
   ]
  },
  {
   "cell_type": "code",
   "execution_count": 28,
   "id": "2c63bad4-8def-4b58-9d90-9f45fe292fe1",
   "metadata": {},
   "outputs": [
    {
     "data": {
      "text/plain": [
       "keyword       61\n",
       "location    2533\n",
       "text           0\n",
       "target         0\n",
       "dtype: int64"
      ]
     },
     "execution_count": 28,
     "metadata": {},
     "output_type": "execute_result"
    }
   ],
   "source": [
    "train.isna().sum()"
   ]
  },
  {
   "cell_type": "markdown",
   "id": "584864f4-aba7-462b-b415-a7644a50dbe9",
   "metadata": {},
   "source": [
    "**Because there are so many nulls in location, I dropped the column.**\n",
    "**Also dropping keyword, because it had a few nulls and isn't needed for the model**"
   ]
  },
  {
   "cell_type": "code",
   "execution_count": 29,
   "id": "c20928bb-1c28-4cfe-87f3-00c04ce19731",
   "metadata": {},
   "outputs": [
    {
     "data": {
      "text/html": [
       "<div>\n",
       "<style scoped>\n",
       "    .dataframe tbody tr th:only-of-type {\n",
       "        vertical-align: middle;\n",
       "    }\n",
       "\n",
       "    .dataframe tbody tr th {\n",
       "        vertical-align: top;\n",
       "    }\n",
       "\n",
       "    .dataframe thead th {\n",
       "        text-align: right;\n",
       "    }\n",
       "</style>\n",
       "<table border=\"1\" class=\"dataframe\">\n",
       "  <thead>\n",
       "    <tr style=\"text-align: right;\">\n",
       "      <th></th>\n",
       "      <th>text</th>\n",
       "      <th>target</th>\n",
       "    </tr>\n",
       "    <tr>\n",
       "      <th>id</th>\n",
       "      <th></th>\n",
       "      <th></th>\n",
       "    </tr>\n",
       "  </thead>\n",
       "  <tbody>\n",
       "    <tr>\n",
       "      <th>1</th>\n",
       "      <td>Our Deeds are the Reason of this #earthquake May ALLAH Forgive us all</td>\n",
       "      <td>1</td>\n",
       "    </tr>\n",
       "    <tr>\n",
       "      <th>4</th>\n",
       "      <td>Forest fire near La Ronge Sask. Canada</td>\n",
       "      <td>1</td>\n",
       "    </tr>\n",
       "    <tr>\n",
       "      <th>5</th>\n",
       "      <td>All residents asked to 'shelter in place' are being notified by officers. No other evacuation or shelter in place orders are expected</td>\n",
       "      <td>1</td>\n",
       "    </tr>\n",
       "    <tr>\n",
       "      <th>6</th>\n",
       "      <td>13,000 people receive #wildfires evacuation orders in California</td>\n",
       "      <td>1</td>\n",
       "    </tr>\n",
       "    <tr>\n",
       "      <th>7</th>\n",
       "      <td>Just got sent this photo from Ruby #Alaska as smoke from #wildfires pours into a school</td>\n",
       "      <td>1</td>\n",
       "    </tr>\n",
       "  </tbody>\n",
       "</table>\n",
       "</div>"
      ],
      "text/plain": [
       "                                                                                                                                     text  \\\n",
       "id                                                                                                                                          \n",
       "1                                                                   Our Deeds are the Reason of this #earthquake May ALLAH Forgive us all   \n",
       "4                                                                                                  Forest fire near La Ronge Sask. Canada   \n",
       "5   All residents asked to 'shelter in place' are being notified by officers. No other evacuation or shelter in place orders are expected   \n",
       "6                                                                       13,000 people receive #wildfires evacuation orders in California    \n",
       "7                                                Just got sent this photo from Ruby #Alaska as smoke from #wildfires pours into a school    \n",
       "\n",
       "    target  \n",
       "id          \n",
       "1        1  \n",
       "4        1  \n",
       "5        1  \n",
       "6        1  \n",
       "7        1  "
      ]
     },
     "execution_count": 29,
     "metadata": {},
     "output_type": "execute_result"
    }
   ],
   "source": [
    "train = train.drop(columns=['location','keyword'])\n",
    "train.head()"
   ]
  },
  {
   "cell_type": "markdown",
   "id": "de5fc3e5-8aeb-4e59-b158-6829e9bd84cf",
   "metadata": {},
   "source": [
    "**Repeat this for test data**"
   ]
  },
  {
   "cell_type": "code",
   "execution_count": 30,
   "id": "9dd92f53-1dad-48aa-b194-55d484f7adb0",
   "metadata": {},
   "outputs": [
    {
     "data": {
      "text/plain": [
       "keyword       26\n",
       "location    1105\n",
       "text           0\n",
       "dtype: int64"
      ]
     },
     "execution_count": 30,
     "metadata": {},
     "output_type": "execute_result"
    }
   ],
   "source": [
    "test.isna().sum()"
   ]
  },
  {
   "cell_type": "code",
   "execution_count": 159,
   "id": "037ce176-c69e-4e21-a79d-e2d56f082619",
   "metadata": {},
   "outputs": [
    {
     "data": {
      "text/html": [
       "<div>\n",
       "<style scoped>\n",
       "    .dataframe tbody tr th:only-of-type {\n",
       "        vertical-align: middle;\n",
       "    }\n",
       "\n",
       "    .dataframe tbody tr th {\n",
       "        vertical-align: top;\n",
       "    }\n",
       "\n",
       "    .dataframe thead th {\n",
       "        text-align: right;\n",
       "    }\n",
       "</style>\n",
       "<table border=\"1\" class=\"dataframe\">\n",
       "  <thead>\n",
       "    <tr style=\"text-align: right;\">\n",
       "      <th></th>\n",
       "      <th>text</th>\n",
       "    </tr>\n",
       "    <tr>\n",
       "      <th>id</th>\n",
       "      <th></th>\n",
       "    </tr>\n",
       "  </thead>\n",
       "  <tbody>\n",
       "    <tr>\n",
       "      <th>0</th>\n",
       "      <td>Just happened a terrible car crash</td>\n",
       "    </tr>\n",
       "    <tr>\n",
       "      <th>2</th>\n",
       "      <td>Heard about #earthquake is different cities, stay safe everyone.</td>\n",
       "    </tr>\n",
       "    <tr>\n",
       "      <th>3</th>\n",
       "      <td>there is a forest fire at spot pond, geese are fleeing across the street, I cannot save them all</td>\n",
       "    </tr>\n",
       "    <tr>\n",
       "      <th>9</th>\n",
       "      <td>Apocalypse lighting. #Spokane #wildfires</td>\n",
       "    </tr>\n",
       "    <tr>\n",
       "      <th>11</th>\n",
       "      <td>Typhoon Soudelor kills 28 in China and Taiwan</td>\n",
       "    </tr>\n",
       "  </tbody>\n",
       "</table>\n",
       "</div>"
      ],
      "text/plain": [
       "                                                                                                text\n",
       "id                                                                                                  \n",
       "0                                                                 Just happened a terrible car crash\n",
       "2                                   Heard about #earthquake is different cities, stay safe everyone.\n",
       "3   there is a forest fire at spot pond, geese are fleeing across the street, I cannot save them all\n",
       "9                                                           Apocalypse lighting. #Spokane #wildfires\n",
       "11                                                     Typhoon Soudelor kills 28 in China and Taiwan"
      ]
     },
     "execution_count": 159,
     "metadata": {},
     "output_type": "execute_result"
    }
   ],
   "source": [
    "test = test.drop(columns=['location','keyword'])\n",
    "test.head()"
   ]
  },
  {
   "cell_type": "code",
   "execution_count": 161,
   "id": "5d15f644-f734-4c94-8227-65b448e24b8e",
   "metadata": {},
   "outputs": [
    {
     "name": "stdout",
     "output_type": "stream",
     "text": [
      "<class 'pandas.core.frame.DataFrame'>\n",
      "Int64Index: 7613 entries, 1 to 10873\n",
      "Data columns (total 2 columns):\n",
      " #   Column  Non-Null Count  Dtype \n",
      "---  ------  --------------  ----- \n",
      " 0   text    7613 non-null   object\n",
      " 1   target  7613 non-null   int64 \n",
      "dtypes: int64(1), object(1)\n",
      "memory usage: 178.4+ KB\n"
     ]
    }
   ],
   "source": [
    "train.info()"
   ]
  },
  {
   "cell_type": "markdown",
   "id": "6eb65023-5624-430a-b809-173c2a529a16",
   "metadata": {},
   "source": [
    "## EDA"
   ]
  },
  {
   "cell_type": "code",
   "execution_count": 150,
   "id": "2a1af79f-bc96-42ef-b02e-9741fc917431",
   "metadata": {},
   "outputs": [],
   "source": [
    "# set num=1 to look at individual words, num=2 to look at bigrams or num=3 to look at trigrams\n",
    "# type = 'graph' or 'dataframe' depending on what output you want\n",
    "# word_count = how many words (or bigrams/trigrams) you want to look at\n",
    "    \n",
    "def get_common_words(df, num, word_count):\n",
    "    cv = CountVectorizer(stop_words='english', ngram_range=(num,num))\n",
    "    data = pd.DataFrame(cv.fit_transform(df['text']).A, columns=cv.get_feature_names_out())    \n",
    "    return data.sum().sort_values(ascending=False).head(15).plot(kind='barh');"
   ]
  },
  {
   "cell_type": "markdown",
   "id": "0eab3175-f06f-4385-9139-bea59ddb17c3",
   "metadata": {},
   "source": [
    "### Common words where target=1 (disaster)"
   ]
  },
  {
   "cell_type": "code",
   "execution_count": 147,
   "id": "7918becd-8961-4148-9a42-83ffeacd0e38",
   "metadata": {},
   "outputs": [
    {
     "data": {
      "image/png": "[encoded data removed]",
      "text/plain": [
       "<Figure size 432x288 with 1 Axes>"
      ]
     },
     "metadata": {
      "needs_background": "light"
     },
     "output_type": "display_data"
    }
   ],
   "source": [
    "df_disasters = train[train['target']==1]\n",
    "\n",
    "get_common_words(df_disasters, 1, 15);"
   ]
  },
  {
   "cell_type": "code",
   "execution_count": 149,
   "id": "2689726d-ec83-4845-a41e-75c99feebec6",
   "metadata": {},
   "outputs": [
    {
     "data": {
      "image/png": "[encoded data removed]",
      "text/plain": [
       "<Figure size 432x288 with 1 Axes>"
      ]
     },
     "metadata": {
      "needs_background": "light"
     },
     "output_type": "display_data"
    }
   ],
   "source": [
    "#graph bigrams and trigrams as well\n",
    "\n",
    "get_common_words(df_disasters, 2, 15);"
   ]
  },
  {
   "cell_type": "code",
   "execution_count": 151,
   "id": "be437e1d-0760-4699-a706-105e29706882",
   "metadata": {},
   "outputs": [
    {
     "data": {
      "image/png": "[encoded data removed]",
      "text/plain": [
       "<Figure size 432x288 with 1 Axes>"
      ]
     },
     "metadata": {
      "needs_background": "light"
     },
     "output_type": "display_data"
    }
   ],
   "source": [
    "get_common_words(df_disasters, 3, 15);"
   ]
  },
  {
   "cell_type": "markdown",
   "id": "c7304138-cf48-4f0f-9a83-701dc2eecf55",
   "metadata": {},
   "source": [
    "### Common words where target=0 (non-disaster)"
   ]
  },
  {
   "cell_type": "code",
   "execution_count": 152,
   "id": "b1fc8503-8a87-422c-b64a-fa6aab6117f7",
   "metadata": {},
   "outputs": [
    {
     "data": {
      "image/png": "[encoded data removed]",
      "text/plain": [
       "<Figure size 432x288 with 1 Axes>"
      ]
     },
     "metadata": {
      "needs_background": "light"
     },
     "output_type": "display_data"
    }
   ],
   "source": [
    "#graph common words where target=0\n",
    "df_non_disasters = train[train['target']==0]\n",
    "\n",
    "get_common_words(df_non_disasters, 1, 15);"
   ]
  },
  {
   "cell_type": "code",
   "execution_count": 153,
   "id": "88287c42-602f-43ef-8ebf-50cf344adb23",
   "metadata": {},
   "outputs": [
    {
     "data": {
      "image/png": "[encoded data removed]",
      "text/plain": [
       "<Figure size 432x288 with 1 Axes>"
      ]
     },
     "metadata": {
      "needs_background": "light"
     },
     "output_type": "display_data"
    }
   ],
   "source": [
    "#graph common words where target=0\n",
    "df_non_disasters = train[train['target']==0]\n",
    "\n",
    "get_common_words(df_non_disasters, 2, 15);"
   ]
  },
  {
   "cell_type": "code",
   "execution_count": 154,
   "id": "d60adb66-ebcc-4113-a543-b3da8e9b2313",
   "metadata": {},
   "outputs": [
    {
     "data": {
      "image/png": "[encoded data removed]",
      "text/plain": [
       "<Figure size 432x288 with 1 Axes>"
      ]
     },
     "metadata": {
      "needs_background": "light"
     },
     "output_type": "display_data"
    }
   ],
   "source": [
    "#graph common words where target=0\n",
    "df_non_disasters = train[train['target']==0]\n",
    "\n",
    "get_common_words(df_non_disasters, 3, 15);"
   ]
  },
  {
   "cell_type": "code",
   "execution_count": 157,
   "id": "02ccfa69-6e21-4088-bc1d-bdc5ce37c138",
   "metadata": {},
   "outputs": [
    {
     "data": {
      "image/png": "[encoded data removed]",
      "text/plain": [
       "<Figure size 432x288 with 1 Axes>"
      ]
     },
     "metadata": {
      "needs_background": "light"
     },
     "output_type": "display_data"
    }
   ],
   "source": [
    "#look at common keywords \n",
    "train_df.groupby('keyword')['keyword'].count().sort_values(ascending=False).head(15).plot(kind='barh');"
   ]
  },
  {
   "cell_type": "markdown",
   "id": "20b6fe84-6db3-4830-aa48-3774ded86ac7",
   "metadata": {},
   "source": [
    "## Baseline Model"
   ]
  },
  {
   "cell_type": "markdown",
   "id": "f413aad8-210e-48b1-bfb1-198267f3c552",
   "metadata": {},
   "source": [
    "**1 is disaster, 0 is no disaster**"
   ]
  },
  {
   "cell_type": "code",
   "execution_count": 39,
   "id": "31f1fdcf-54c3-4167-87c5-c33b2bd7829b",
   "metadata": {},
   "outputs": [
    {
     "data": {
      "text/plain": [
       "0    0.57034\n",
       "1    0.42966\n",
       "Name: target, dtype: float64"
      ]
     },
     "execution_count": 39,
     "metadata": {},
     "output_type": "execute_result"
    }
   ],
   "source": [
    "train['target'].value_counts(normalize=True)"
   ]
  },
  {
   "cell_type": "markdown",
   "id": "b73016c5-ec8c-4b3c-97be-a179453baea8",
   "metadata": {},
   "source": [
    "**Data is slightly imbalanced**"
   ]
  },
  {
   "cell_type": "markdown",
   "id": "c57a742e-0e3d-44d6-8f29-e018972bc308",
   "metadata": {},
   "source": [
    "## Train/Test Split"
   ]
  },
  {
   "cell_type": "markdown",
   "id": "7bd87241-0924-4543-848e-668028f66058",
   "metadata": {},
   "source": [
    "**I'm going to ignore test.csv since it doesn't have the correct answers and train/test split train.csv.**"
   ]
  },
  {
   "cell_type": "code",
   "execution_count": 174,
   "id": "b0df8268-04a8-4473-b877-8c2bd9c70327",
   "metadata": {},
   "outputs": [],
   "source": [
    "#train/test split\n",
    "X = train['text']\n",
    "y = train['target']\n",
    "\n",
    "X_train, X_test, y_train, y_test = train_test_split(X, y, stratify=y)\n",
    "\n",
    "#vectorize the text\n",
    "cv = CountVectorizer(stop_words='english')\n",
    "X_train_cv = cv.fit_transform(X_train)\n",
    "X_test_cv = cv.transform(X_test)\n",
    "\n",
    "X_train_cv = pd.DataFrame(X_train_cv.A, columns=cv.get_feature_names_out())\n",
    "X_test_cv = pd.DataFrame(X_test_cv.A, columns=cv.get_feature_names_out())"
   ]
  },
  {
   "cell_type": "markdown",
   "id": "95e5f748-a251-447a-970b-7de19db56d4e",
   "metadata": {},
   "source": [
    "## Models "
   ]
  },
  {
   "cell_type": "markdown",
   "id": "87032be4-d770-47fd-9a4b-4d5f0b9b6ae4",
   "metadata": {},
   "source": [
    "### 1) Logistic Regression Model"
   ]
  },
  {
   "cell_type": "markdown",
   "id": "575a14b3-a8d5-4d8e-872e-077f98fd25c0",
   "metadata": {},
   "source": [
    "- This model had the best recall score"
   ]
  },
  {
   "cell_type": "code",
   "execution_count": 62,
   "id": "0a305f45-93c3-491e-9363-bf5fda70b75f",
   "metadata": {},
   "outputs": [
    {
     "data": {
      "text/plain": [
       "(0.9709231038710807, 0.7914915966386554)"
      ]
     },
     "execution_count": 62,
     "metadata": {},
     "output_type": "execute_result"
    }
   ],
   "source": [
    "logreg = LogisticRegression()\n",
    "\n",
    "logreg.fit(X_train_cv, y_train)\n",
    "logreg.score(X_train_cv, y_train), logreg.score(X_test_cv, y_test)"
   ]
  },
  {
   "cell_type": "markdown",
   "id": "d4559fa1-4665-4232-a92b-56cf9636aded",
   "metadata": {},
   "source": [
    "**Very overfit**"
   ]
  },
  {
   "cell_type": "code",
   "execution_count": 82,
   "id": "9affd4c9-2396-47d3-a921-25ff4dd74ede",
   "metadata": {},
   "outputs": [
    {
     "data": {
      "image/png": "[encoded data removed]",
      "text/plain": [
       "<Figure size 432x288 with 2 Axes>"
      ]
     },
     "metadata": {
      "needs_background": "light"
     },
     "output_type": "display_data"
    }
   ],
   "source": [
    "ConfusionMatrixDisplay.from_estimator(logreg, X_test_cv, y_test,  cmap='magma');"
   ]
  },
  {
   "cell_type": "code",
   "execution_count": 168,
   "id": "2b663fa5-3b1a-4f5f-9aab-379cf42ca9b7",
   "metadata": {},
   "outputs": [
    {
     "data": {
      "text/plain": [
       "0.7396721311475409"
      ]
     },
     "execution_count": 168,
     "metadata": {},
     "output_type": "execute_result"
    }
   ],
   "source": [
    "f1_score(y_test, logreg.predict(X_test_cv))"
   ]
  },
  {
   "cell_type": "code",
   "execution_count": 169,
   "id": "b828b6d1-020f-43b3-9555-a5bf2ee705ab",
   "metadata": {},
   "outputs": [
    {
     "data": {
      "text/plain": [
       "0.6894865525672371"
      ]
     },
     "execution_count": 169,
     "metadata": {},
     "output_type": "execute_result"
    }
   ],
   "source": [
    "recall_score(y_test, logreg.predict(X_test_cv))"
   ]
  },
  {
   "cell_type": "markdown",
   "id": "34988763-c9fe-4917-af0b-5fcacfa3fef4",
   "metadata": {},
   "source": [
    "### 2) Random Forest Model"
   ]
  },
  {
   "cell_type": "code",
   "execution_count": 68,
   "id": "dcb58724-ed05-489f-a8ae-a3c02e652103",
   "metadata": {},
   "outputs": [
    {
     "data": {
      "text/plain": [
       "(0.9966719215274129, 0.7804621848739496)"
      ]
     },
     "execution_count": 68,
     "metadata": {},
     "output_type": "execute_result"
    }
   ],
   "source": [
    "forest = RandomForestClassifier()\n",
    "\n",
    "forest.fit(X_train_cv, y_train)\n",
    "forest.score(X_train_cv, y_train), forest.score(X_test_cv, y_test)"
   ]
  },
  {
   "cell_type": "markdown",
   "id": "d9dc2936-2955-4e1b-af20-991dd54a677d",
   "metadata": {},
   "source": [
    "**How'd it do? Even more overfit!**"
   ]
  },
  {
   "cell_type": "code",
   "execution_count": 80,
   "id": "3549d9c2-eb59-4af9-bf8d-d02133997825",
   "metadata": {},
   "outputs": [
    {
     "data": {
      "image/png": "[encoded data removed]",
      "text/plain": [
       "<Figure size 432x288 with 2 Axes>"
      ]
     },
     "metadata": {
      "needs_background": "light"
     },
     "output_type": "display_data"
    }
   ],
   "source": [
    "ConfusionMatrixDisplay.from_estimator(forest, X_test_cv, y_test,  cmap='magma');"
   ]
  },
  {
   "cell_type": "code",
   "execution_count": 170,
   "id": "ab699459-a255-4ff3-822d-7886f4b05f9a",
   "metadata": {},
   "outputs": [
    {
     "data": {
      "text/plain": [
       "0.6979768786127167"
      ]
     },
     "execution_count": 170,
     "metadata": {},
     "output_type": "execute_result"
    }
   ],
   "source": [
    "f1_score(y_test, forest.predict(X_test_cv))"
   ]
  },
  {
   "cell_type": "code",
   "execution_count": 172,
   "id": "2b6c55e9-27e1-46b5-aa24-7493c9b45cc6",
   "metadata": {},
   "outputs": [
    {
     "data": {
      "text/plain": [
       "0.5904645476772616"
      ]
     },
     "execution_count": 172,
     "metadata": {},
     "output_type": "execute_result"
    }
   ],
   "source": [
    "recall_score(y_test, forest.predict(X_test_cv))"
   ]
  },
  {
   "cell_type": "markdown",
   "id": "25725b58-09fd-4f2a-9085-84cded16da7b",
   "metadata": {},
   "source": [
    "**Random forest model looks like it is predicting everything as not a disaster which is not great.**"
   ]
  },
  {
   "cell_type": "markdown",
   "id": "05545877-4e9d-4570-9b32-3505bc46ca7a",
   "metadata": {},
   "source": [
    "### 3) Ensemble Model"
   ]
  },
  {
   "cell_type": "markdown",
   "id": "da57788e-3593-4d6c-aed2-992a2a18bb4f",
   "metadata": {},
   "source": [
    "- This model had the best f1 score"
   ]
  },
  {
   "cell_type": "code",
   "execution_count": 182,
   "id": "90791b0c-ddb9-4039-9f9a-e3169abe6461",
   "metadata": {},
   "outputs": [
    {
     "data": {
      "text/plain": [
       "(0.9623401646523034, 0.8046218487394958)"
      ]
     },
     "execution_count": 182,
     "metadata": {},
     "output_type": "execute_result"
    }
   ],
   "source": [
    "vc = VotingClassifier([\n",
    "    ('logreg', LogisticRegression(max_iter=10_000)),\n",
    "    ('tree', RandomForestClassifier()),\n",
    "    ('nb', MultinomialNB())\n",
    "    ],\n",
    "    voting='soft',\n",
    "    weights=[.4,.3,.3],\n",
    "    n_jobs=-1\n",
    ")\n",
    "vc.fit(X_train_cv, y_train)\n",
    "vc.score(X_train_cv, y_train), vc.score(X_test_cv, y_test)"
   ]
  },
  {
   "cell_type": "code",
   "execution_count": 183,
   "id": "95dc7904-f85b-4fd4-9705-021de36cbb54",
   "metadata": {},
   "outputs": [
    {
     "data": {
      "image/png": "[encoded data removed]",
      "text/plain": [
       "<Figure size 432x288 with 2 Axes>"
      ]
     },
     "metadata": {
      "needs_background": "light"
     },
     "output_type": "display_data"
    }
   ],
   "source": [
    "ConfusionMatrixDisplay.from_estimator(vc, X_test_cv, y_test,  cmap='magma');"
   ]
  },
  {
   "cell_type": "code",
   "execution_count": 184,
   "id": "1f5d88d5-5d20-467c-ac8e-a8851a7c0f4a",
   "metadata": {},
   "outputs": [
    {
     "data": {
      "text/plain": [
       "0.7476255088195386"
      ]
     },
     "execution_count": 184,
     "metadata": {},
     "output_type": "execute_result"
    }
   ],
   "source": [
    "f1_score(y_test, vc.predict(X_test_cv))"
   ]
  },
  {
   "cell_type": "code",
   "execution_count": 185,
   "id": "a3d4b112-28d2-4731-9094-a0b8af2bb419",
   "metadata": {},
   "outputs": [
    {
     "data": {
      "text/plain": [
       "0.6735941320293398"
      ]
     },
     "execution_count": 185,
     "metadata": {},
     "output_type": "execute_result"
    }
   ],
   "source": [
    "recall_score(y_test, vc.predict(X_test_cv))"
   ]
  },
  {
   "cell_type": "markdown",
   "id": "5aa3d2fc-a820-4982-81be-72aabce74fb8",
   "metadata": {},
   "source": [
    "### 4) RandomSearching"
   ]
  },
  {
   "cell_type": "code",
   "execution_count": null,
   "id": "6b295c6e-e48e-41c8-ac5e-fcf223262dba",
   "metadata": {},
   "outputs": [],
   "source": [
    "#I tried running this a few times with different weights, different models, and different number of models. It didn't get any better\n",
    "\n",
    "params =  {\n",
    "    'weights' : [[.1,.9],[.2,.8],[.3,.7],[.4,.6],[.5,.5],[.6,.4],[.7,.3],[.8,.2],[.9,.1]],\n",
    "    'voting' : ['hard','soft']}\n",
    "\n",
    "rs= RandomizedSearchCV(VotingClassifier([\n",
    "    ('logreg', LogisticRegression(max_iter=10_000)),\n",
    "    ('nb', MultinomialNB())\n",
    "    ]), params, n_jobs=-1)\n",
    "\n",
    "rs.fit(X_train_cv, y_train)\n",
    "rs.score(X_test_cv, y_test)"
   ]
  },
  {
   "cell_type": "markdown",
   "id": "2aba1085-5b00-4dd4-a33b-d94241652afd",
   "metadata": {},
   "source": [
    "### 4) Ensemble Model 2"
   ]
  },
  {
   "cell_type": "code",
   "execution_count": 133,
   "id": "ed65cd4b-9ac2-4417-b3b0-6d9be1cc637d",
   "metadata": {},
   "outputs": [
    {
     "data": {
      "text/plain": [
       "(0.9942196531791907, 0.7720588235294118)"
      ]
     },
     "execution_count": 133,
     "metadata": {},
     "output_type": "execute_result"
    }
   ],
   "source": [
    "vc2 = VotingClassifier([\n",
    "    ('logreg', LogisticRegression()),\n",
    "    ('tree', RandomForestClassifier()),\n",
    "    ('nb', GaussianNB())\n",
    "    ],\n",
    "    voting='soft',\n",
    "    weights=[.4,.3,.3],\n",
    "    n_jobs=-1\n",
    ")\n",
    "vc2.fit(X_train_cv, y_train)\n",
    "vc2.score(X_train_cv, y_train), vc2.score(X_test_cv, y_test)"
   ]
  },
  {
   "cell_type": "markdown",
   "id": "c0cedf52-457f-46e0-9f90-80fef190f217",
   "metadata": {},
   "source": [
    "## Try Lemmatization"
   ]
  },
  {
   "cell_type": "code",
   "execution_count": null,
   "id": "35fdd8ea-c13e-4227-9049-c7c95db57ede",
   "metadata": {},
   "outputs": [],
   "source": [
    "from nltk import word_tokenize\n",
    "from nltk.stem import WordNetLemmatizer\n",
    "\n",
    "lemmatizer = WordNetLemmatizer()\n",
    "\n",
    "def lemma_tokenizer(doc):\n",
    "    wnl = WordNetLemmatizer()\n",
    "    return [wnl.lemmatize(w) for w in word_tokenize(doc)]\n",
    "\n",
    "cv2 = CountVectorizer(tokenizer=lemma_tokenizer, stop_words='english')\n",
    "X_train_cv2 = cv2.fit_transform(X_train)\n",
    "X_test_cv2 = cv2.transform(X_test)\n",
    "\n",
    "X_train_cv2 = pd.DataFrame(X_train_cv2.A, columns=cv2.get_feature_names_out())\n",
    "X_test_cv2 = pd.DataFrame(X_test_cv2.A, columns=cv2.get_feature_names_out())"
   ]
  },
  {
   "cell_type": "markdown",
   "id": "b7d794cf-2788-441a-af12-801b5dfa6781",
   "metadata": {},
   "source": [
    "### Plug that into best models"
   ]
  },
  {
   "cell_type": "code",
   "execution_count": 165,
   "id": "9b348856-cee3-40a0-a899-d90dcc73ffa9",
   "metadata": {},
   "outputs": [
    {
     "data": {
      "text/plain": [
       "(0.9726747241198108, 0.7977941176470589)"
      ]
     },
     "execution_count": 165,
     "metadata": {},
     "output_type": "execute_result"
    }
   ],
   "source": [
    "vc2 = VotingClassifier([\n",
    "    ('logreg', LogisticRegression(max_iter=10_000)),\n",
    "    ('tree', RandomForestClassifier()),\n",
    "    ('nb', MultinomialNB())\n",
    "    ],\n",
    "    voting='hard',\n",
    "    weights=[.4,.3,.3],\n",
    "    n_jobs=-1\n",
    ")\n",
    "vc2.fit(X_train_cv2, y_train)\n",
    "vc2.score(X_train_cv2, y_train), vc.score(X_test_cv2, y_test)"
   ]
  },
  {
   "cell_type": "code",
   "execution_count": 176,
   "id": "7d87ec2a-b037-43a5-934d-162cf26ad886",
   "metadata": {},
   "outputs": [
    {
     "data": {
      "image/png": "[encoded data removed]",
      "text/plain": [
       "<Figure size 432x288 with 2 Axes>"
      ]
     },
     "metadata": {
      "needs_background": "light"
     },
     "output_type": "display_data"
    }
   ],
   "source": [
    "ConfusionMatrixDisplay.from_estimator(vc2, X_test_cv2, y_test,  cmap='magma');"
   ]
  },
  {
   "cell_type": "code",
   "execution_count": 178,
   "id": "8234d4b8-f38d-40c9-9b96-b8b96b2df7e3",
   "metadata": {},
   "outputs": [
    {
     "data": {
      "text/plain": [
       "0.36137931034482756"
      ]
     },
     "execution_count": 178,
     "metadata": {},
     "output_type": "execute_result"
    }
   ],
   "source": [
    "f1_score(y_test, vc2.predict(X_test_cv2))"
   ]
  },
  {
   "cell_type": "code",
   "execution_count": 187,
   "id": "dce9034b-d3a7-40f4-8506-0cb15762737b",
   "metadata": {},
   "outputs": [
    {
     "data": {
      "text/plain": [
       "0.3202933985330073"
      ]
     },
     "execution_count": 187,
     "metadata": {},
     "output_type": "execute_result"
    }
   ],
   "source": [
    "recall_score(y_test, vc2.predict(X_test_cv2))"
   ]
  },
  {
   "cell_type": "code",
   "execution_count": 190,
   "id": "8357d343-c495-4375-b85a-b333e3e2f536",
   "metadata": {},
   "outputs": [
    {
     "data": {
      "text/plain": [
       "(0.9563846558066211, 0.5194327731092437)"
      ]
     },
     "execution_count": 190,
     "metadata": {},
     "output_type": "execute_result"
    }
   ],
   "source": [
    "logreg2 = LogisticRegression(max_iter=10_000)\n",
    "\n",
    "logreg2.fit(X_train_cv2, y_train)\n",
    "logreg2.score(X_train_cv2, y_train), logreg2.score(X_test_cv2, y_test)"
   ]
  },
  {
   "cell_type": "code",
   "execution_count": 192,
   "id": "4a627a53-2b49-4d89-926b-561329bfd9ad",
   "metadata": {},
   "outputs": [
    {
     "data": {
      "text/plain": [
       "0.3676572218382861"
      ]
     },
     "execution_count": 192,
     "metadata": {},
     "output_type": "execute_result"
    }
   ],
   "source": [
    "f1_score(y_test, logreg2.predict(X_test_cv2))"
   ]
  },
  {
   "cell_type": "code",
   "execution_count": 194,
   "id": "75c11eb4-9676-4b80-8847-f0927d6026f3",
   "metadata": {},
   "outputs": [
    {
     "data": {
      "text/plain": [
       "0.3251833740831296"
      ]
     },
     "execution_count": 194,
     "metadata": {},
     "output_type": "execute_result"
    }
   ],
   "source": [
    "recall_score(y_test, logreg2.predict(X_test_cv2))"
   ]
  },
  {
   "cell_type": "markdown",
   "id": "286a330e-d243-4e05-8e02-c73d13443670",
   "metadata": {},
   "source": [
    "**Lemmatization is making the models predict more disasters as non-disasters which is not good**"
   ]
  },
  {
   "cell_type": "markdown",
   "id": "52e0f311-eb8a-42ca-8f07-eba4ba1b7853",
   "metadata": {},
   "source": [
    "## Analysis "
   ]
  },
  {
   "cell_type": "markdown",
   "id": "b1744db9-e774-4f37-89a5-6cd1c7d01144",
   "metadata": {},
   "source": [
    "- My best model (if looking at f1 score) seems to be an ensemble model with Logisitic Regression, Random Tree, and Naive Bayes that has been count vectorized. \n",
    "- My best model (if looking at Recall Score/minimizing FN) is a logistic regression model that has been count vectorized\n",
    "- Lemmatization did terribly\n",
    "- It seems to misidentify diasasters as non-disasters more than it misidentifies non-disasters as disasters which is not great. "
   ]
  },
  {
   "cell_type": "markdown",
   "id": "b941e1fa-ea47-471f-b4a7-fb5f4d4b3dd2",
   "metadata": {},
   "source": [
    "## Conclusions and Next Steps "
   ]
  },
  {
   "cell_type": "markdown",
   "id": "e7fb2bcf-3609-4d7b-9022-a78a41ccbca8",
   "metadata": {},
   "source": [
    "- Look into misclassifications. Figure out what type of Tweet is getting misclassified the most\n",
    "- Include 'http' as a stop word (and perhaps others)\n",
    "- Find a model that misidentifies disasters as non-disasters less (even if it's at the expense of misclassifying non-disasters as disasters)\n",
    "- Address overfitting"
   ]
  }
 ],
 "metadata": {
  "kernelspec": {
   "display_name": "Python 3 (ipykernel)",
   "language": "python",
   "name": "python3"
  },
  "language_info": {
   "codemirror_mode": {
    "name": "ipython",
    "version": 3
   },
   "file_extension": ".py",
   "mimetype": "text/x-python",
   "name": "python",
   "nbconvert_exporter": "python",
   "pygments_lexer": "ipython3",
   "version": "3.9.7"
  }
 },
 "nbformat": 4,
 "nbformat_minor": 5
}

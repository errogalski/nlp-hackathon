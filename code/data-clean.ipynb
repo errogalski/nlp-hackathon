{
 "cells": [
  {
   "cell_type": "markdown",
   "id": "a11ed054-ab8b-4e37-aa3f-64594c369eca",
   "metadata": {},
   "source": [
    "**Created functions that cleaned my data and concatenated them into one dataframe**\n",
    "\n",
    "- After looking through the subreddits, I made the decision to use **title** instead of the subtext to build my models off of. This is because across all the sports subreddits, the title functions as the post's content. Most posts are screenshots of tweets from Twitter (or other news sources) whose content are then copied into the title.\n",
    "- I have thrown a few examples of what I'm talking about in the example-posts folder.\n",
    "- Because of this, if I were to only use posts that had subtext, I would have thrown out a lot of very good data. Instead, I made the executive decision to throw out subtext and use title in that manner."
   ]
  },
  {
   "cell_type": "code",
   "execution_count": 2,
   "id": "2a8e58e9-2365-47b5-a585-64e882f75dfa",
   "metadata": {},
   "outputs": [],
   "source": [
    "#imports\n",
    "import pandas as pd\n",
    "\n",
    "#function that cleans data -> keeps title column and adds subreddit column\n",
    "     #exports csv file\n",
    "def data_clean(current_path, subreddit, new_path):\n",
    "    df = pd.read_csv(current_path)\n",
    "    df = df[['title']]\n",
    "    df['subreddit'] = subreddit\n",
    "    df.to_csv(new_path)\n",
    "    \n",
    "#function that concatenates dataframes together and exports a csv file\n",
    "def concat_data(file_list, file):\n",
    "    df = pd.read_csv(file_list[0])\n",
    "    for i in range(1,len(file_list)):\n",
    "        new_df = pd.read_csv(file_list[i])\n",
    "        df = pd.concat([df, new_df], axis=0)\n",
    "        \n",
    "    df.to_csv(file)"
   ]
  },
  {
   "cell_type": "code",
   "execution_count": 21,
   "id": "6300cd34-3908-4ac7-ba72-751fa9004c1c",
   "metadata": {},
   "outputs": [
    {
     "name": "stdout",
     "output_type": "stream",
     "text": [
      "1\n",
      "2\n",
      "3\n",
      "4\n"
     ]
    }
   ],
   "source": [
    "input_data = ['./outputs/baseball-clean.csv', './outputs/hockey-clean.csv', './outputs/nba-clean.csv', './outputs/soccer-clean.csv', './outputs/nfl2-clean.csv']\n",
    "range(1,len(input_data))\n",
    "for i in range(1,len(input_data)):\n",
    "    print(i)"
   ]
  },
  {
   "cell_type": "code",
   "execution_count": 11,
   "id": "4f10b025-23fb-4b0a-a961-fb7bd4bb6768",
   "metadata": {},
   "outputs": [],
   "source": [
    "reddit_df.to_csv('./data/total-posts.csv')"
   ]
  },
  {
   "cell_type": "code",
   "execution_count": 31,
   "id": "588bdf7b-3308-4465-a92c-bee92458daa4",
   "metadata": {},
   "outputs": [],
   "source": [
    "sport_subs = ['nfl', 'nba', 'soccer', 'baseball', 'hockey']\n",
    "sports_clean_paths = []\n",
    "\n",
    "for sport in sport_subs:\n",
    "    outfile = './outputs/'+sport+'-clean.csv'\n",
    "    data_clean('./data/'+sport+'.csv', sport, outfile)\n",
    "    sports_clean_paths.append(outfile)\n",
    "\n",
    "concat_data(sports_clean_paths, './outputs/sports-clean.csv')"
   ]
  },
  {
   "cell_type": "code",
   "execution_count": 30,
   "id": "08194990-6691-4f15-b1fd-bb5ccbc64ff4",
   "metadata": {},
   "outputs": [],
   "source": [
    "afcn_teams = ['steelers', 'browns', 'ravens', 'bengals']\n",
    "afcn_clean_paths = []\n",
    "\n",
    "for team in afcn_teams:\n",
    "    outfile = './outputs/'+team+'-clean.csv'\n",
    "    data_clean('./data/'+team+'.csv', team, outfile)\n",
    "    afcn_clean_paths.append(outfile)\n",
    "\n",
    "concat_data(afcn_clean_paths, './outputs/afcn-clean.csv')"
   ]
  }
 ],
 "metadata": {
  "kernelspec": {
   "display_name": "Python 3 (ipykernel)",
   "language": "python",
   "name": "python3"
  },
  "language_info": {
   "codemirror_mode": {
    "name": "ipython",
    "version": 3
   },
   "file_extension": ".py",
   "mimetype": "text/x-python",
   "name": "python",
   "nbconvert_exporter": "python",
   "pygments_lexer": "ipython3",
   "version": "3.9.7"
  }
 },
 "nbformat": 4,
 "nbformat_minor": 5
}
